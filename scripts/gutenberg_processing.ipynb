{
 "cells": [
  {
   "cell_type": "code",
   "execution_count": null,
   "metadata": {},
   "outputs": [],
   "source": [
    "import os\n",
    "import requests\n",
    "import polars as pl\n",
    "from datasets import load_dataset\n",
    "import json\n",
    "\n",
    "# Use the specified data directory path\n",
    "data_dir = \"/Users/tommasofurlanello/Documents/Dev/MarketInference/data\"\n",
    "os.makedirs(data_dir, exist_ok=True)\n",
    "\n",
    "def download_gutenberg_dataset():\n",
    "    \"\"\"\n",
    "    Download the Gutenberg English dataset from Hugging Face and save to /data folder\n",
    "    \"\"\"\n",
    "    print(\"Downloading Gutenberg English dataset...\")\n",
    "    \n",
    "    # Method 1: Using the datasets library\n",
    "    try:\n",
    "        dataset = load_dataset(\"sedthh/gutenberg_english\")\n",
    "        # Save each split to parquet files for faster loading\n",
    "        for split in dataset:\n",
    "            output_path = os.path.join(data_dir, f\"gutenberg_{split}.parquet\")\n",
    "            print(f\"Saving {split} split to {output_path}\")\n",
    "            dataset[split].to_parquet(output_path)\n",
    "        return True\n",
    "    except Exception as e:\n",
    "        print(f\"Error using datasets library: {e}\")\n",
    "        print(\"Trying alternative download method...\")\n",
    "    \n",
    "    # Method 2: Manual download if datasets library fails\n",
    "    try:\n",
    "        # Get dataset info\n",
    "        info_url = \"https://huggingface.co/datasets/sedthh/gutenberg_english/resolve/main/dataset_infos.json\"\n",
    "        response = requests.get(info_url)\n",
    "        response.raise_for_status()\n",
    "        info = json.loads(response.text)\n",
    "        \n",
    "        splits = [\"train\", \"test\", \"validation\"]\n",
    "        for split in splits:\n",
    "            # Download each split\n",
    "            split_url = f\"https://huggingface.co/datasets/sedthh/gutenberg_english/resolve/main/{split}-00000-of-00001.parquet\"\n",
    "            output_path = os.path.join(data_dir, f\"gutenberg_{split}.parquet\")\n",
    "            \n",
    "            print(f\"Downloading {split} split from {split_url}\")\n",
    "            response = requests.get(split_url)\n",
    "            response.raise_for_status()\n",
    "            \n",
    "            with open(output_path, \"wb\") as f:\n",
    "                f.write(response.content)\n",
    "            print(f\"Saved to {output_path}\")\n",
    "        \n",
    "        return True\n",
    "    except Exception as e:\n",
    "        print(f\"Error in alternative download method: {e}\")\n",
    "        return False\n",
    "\n",
    "def load_as_polars():\n",
    "    \"\"\"\n",
    "    Load all splits of the Gutenberg dataset as a single Polars DataFrame\n",
    "    \"\"\"\n",
    "    splits = [\"train\", \"test\", \"validation\"]\n",
    "    dataframes = []\n",
    "    \n",
    "    for split in splits:\n",
    "        file_path = os.path.join(data_dir, f\"gutenberg_{split}.parquet\")\n",
    "        if os.path.exists(file_path):\n",
    "            print(f\"Loading {file_path}...\")\n",
    "            df = pl.read_parquet(file_path)\n",
    "            # Add a column to identify the split\n",
    "            df = df.with_columns(pl.lit(split).alias(\"split\"))\n",
    "            dataframes.append(df)\n",
    "        else:\n",
    "            print(f\"Warning: {file_path} not found\")\n",
    "    \n",
    "    if not dataframes:\n",
    "        raise FileNotFoundError(f\"No dataset files found in {data_dir} directory\")\n",
    "    \n",
    "    # Combine all dataframes\n",
    "    combined_df = pl.concat(dataframes)\n",
    "    print(f\"Combined DataFrame shape: {combined_df.shape}\")\n",
    "    print(f\"Combined DataFrame schema:\\n{combined_df.schema}\")\n",
    "    \n",
    "    return combined_df"
   ]
  },
  {
   "cell_type": "code",
   "execution_count": null,
   "metadata": {},
   "outputs": [],
   "source": [
    "download_gutenberg_dataset()"
   ]
  },
  {
   "cell_type": "code",
   "execution_count": null,
   "metadata": {},
   "outputs": [],
   "source": [
    "df = load_as_polars()"
   ]
  },
  {
   "cell_type": "code",
   "execution_count": 14,
   "metadata": {},
   "outputs": [],
   "source": [
    "unnested_df = df.with_columns(pl.col(\"METADATA\").str.json_decode()).unnest(\"METADATA\")"
   ]
  },
  {
   "cell_type": "code",
   "execution_count": null,
   "metadata": {},
   "outputs": [],
   "source": [
    "unnested_df[\"subjects\"][52]"
   ]
  },
  {
   "cell_type": "code",
   "execution_count": 20,
   "metadata": {},
   "outputs": [],
   "source": [
    "novels = unnested_df.filter(pl.col(\"subjects\").str.contains(\"fiction\"))"
   ]
  },
  {
   "cell_type": "code",
   "execution_count": 30,
   "metadata": {},
   "outputs": [],
   "source": [
    "novels.write_parquet(\"/Users/tommasofurlanello/Documents/Dev/MarketInference/data/gutenberg_en_novels.parquet\")"
   ]
  },
  {
   "cell_type": "code",
   "execution_count": null,
   "metadata": {},
   "outputs": [],
   "source": [
    "novels[\"TEXT\"][0][114:2500]"
   ]
  },
  {
   "cell_type": "code",
   "execution_count": null,
   "metadata": {},
   "outputs": [],
   "source": []
  }
 ],
 "metadata": {
  "kernelspec": {
   "display_name": ".venv",
   "language": "python",
   "name": "python3"
  },
  "language_info": {
   "codemirror_mode": {
    "name": "ipython",
    "version": 3
   },
   "file_extension": ".py",
   "mimetype": "text/x-python",
   "name": "python",
   "nbconvert_exporter": "python",
   "pygments_lexer": "ipython3",
   "version": "3.12.1"
  }
 },
 "nbformat": 4,
 "nbformat_minor": 2
}
